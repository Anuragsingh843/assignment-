{
 "cells": [
  {
   "cell_type": "code",
   "execution_count": null,
   "id": "1e5361b2",
   "metadata": {},
   "outputs": [],
   "source": [
    "\"\"\"Q1. Which keyword is used to create a function? Create a function to return a list of odd numbers in the\n",
    "range of 1 to 25\n",
    "ans:=   keyword is used to create a function def.\"\"\"\n",
    "\n",
    "def odd_numbers():\n",
    "    odd_numbers = []\n",
    "    for i in range(1, 26):\n",
    "        if i % 2 != 0:\n",
    "            odd_numbers.append(i)\n",
    "    return odd_numbers"
   ]
  },
  {
   "cell_type": "code",
   "execution_count": 10,
   "id": "469afe67",
   "metadata": {},
   "outputs": [
    {
     "name": "stdout",
     "output_type": "stream",
     "text": [
      "Sentence: Kwargs are awesome!\n"
     ]
    }
   ],
   "source": [
    "\"\"\"Q.2  Why *args and **kwargs is used in some functions? Create a function each for *args and **kwargs\n",
    "     to demonstrate their use.\n",
    "    We use *args and **kwargs as an argument when we are unsure about the number of arguments to pass in the functions.\"\"\"\n",
    " \n",
    "\n",
    "def myFun(*args):\n",
    "    for i in args:\n",
    "        print(i)\n",
    " \n",
    " \n",
    "myFun('Hello', 'Welcome', 'to', 'pwskills')\n",
    "\n",
    "\n",
    "\n",
    "def makeSentence(**Kwargs):\n",
    "    sentence=''\n",
    "    for i in Kwargs.values():\n",
    "        sentence+=i\n",
    "    return sentence\n",
    " \n",
    "print('Sentence:', makeSentence(a='Kwargs ',b='are ', c='awesome!'))\n",
    "\n"
   ]
  },
  {
   "cell_type": "code",
   "execution_count": null,
   "id": "6be0ef23",
   "metadata": {},
   "outputs": [],
   "source": [
    "Q3. What is an iterator in python? Name the method used to initialise the iterator object and the method\n",
    "used for iteration. Use these methods to print the first five elements of the given list [2, 4, 6, 8, 10, 12, 14,\n",
    "16, 18, 20].\n",
    "\n",
    "ANS:=An iterator is an object that contains a countable number of values. \n",
    "    \n",
    "    The iterator object is initialized using the iter() method.\n",
    "    It uses the next() method for iteration.\n",
    "    \n",
    "lst = [2, 4, 6, 8, 10, 12, 14, 16, 18, 20]\n",
    "it = iter(lst)\n",
    "for i in range(5):\n",
    "    print(next(it))\n"
   ]
  },
  {
   "cell_type": "code",
   "execution_count": null,
   "id": "e86e93dd",
   "metadata": {},
   "outputs": [],
   "source": [
    "Q4. What is a generator function in python? Why yield keyword is used? Give an example of a generator\n",
    "function.\n",
    "\n",
    "Python Generator functions allow you to declare a function that behaves likes an iterator, \n",
    "allowing programmers to make an iterator in a fast, easy, and clean way. \n",
    "    \n",
    "yield keyword is used to create a generator function.\n",
    "\n",
    "Example:-\n",
    "    \n",
    "    \n",
    "function * fun()\n",
    "    {\n",
    "        yield 10;\n",
    "        yield 20;\n",
    "        yield 30;    \n",
    "    }\n",
    "      \n",
    "\n",
    "    var gen = fun();\n",
    "    console.log(gen.next().value);\n",
    "    console.log(gen.next().value);\n",
    "    console.log(gen.next().value);"
   ]
  },
  {
   "cell_type": "code",
   "execution_count": null,
   "id": "714fb8e6",
   "metadata": {},
   "outputs": [],
   "source": [
    "Q5.  Create a generator function for prime numbers less than 1000. Use the next() method to print the\n",
    "first 20 prime numbers.\n",
    "\n",
    "def prime_numbers():\n",
    "    primes = []\n",
    "    for num in range(2, 1000):\n",
    "        for i in range(2, num):\n",
    "            if (num % i) == 0:\n",
    "                break\n",
    "        else:\n",
    "            primes.append(num)\n",
    "            yield num\n",
    "\n",
    "            \n",
    "            \n",
    "And here's how you can use the next() method to print the first 20 prime numbers:\n",
    "\n",
    "\n",
    "prime_gen = prime_numbers()\n",
    "for i in range(20):\n",
    "    print(next(prime_gen))\n",
    "\n",
    "            "
   ]
  },
  {
   "cell_type": "code",
   "execution_count": null,
   "id": "41287008",
   "metadata": {},
   "outputs": [],
   "source": [
    "Q6. Write a python program to print the first 10 Fibonacci numbers using a while loop.\n",
    "ANS:=\n",
    "    \n",
    "def fibonacci(n):\n",
    "  i = 0\n",
    "  j = 1\n",
    "  count = 0\n",
    "  while count < n:\n",
    "    print(i)\n",
    "    nth = i + j\n",
    "    i = j\n",
    "    j = nth\n",
    "    count += 1\n",
    "\n",
    "fibonacci(10)\n",
    "    "
   ]
  },
  {
   "cell_type": "code",
   "execution_count": null,
   "id": "ece7236f",
   "metadata": {},
   "outputs": [],
   "source": []
  },
  {
   "cell_type": "code",
   "execution_count": null,
   "id": "4ef667b0",
   "metadata": {},
   "outputs": [],
   "source": [
    "Q7. Write a List Comprehension to iterate through the given string: ‘pwskills’.\n",
    "Expected output: ['p', 'w', 's', 'k', 'i', 'l', 'l', 's']\n",
    "    \n",
    "string = 'pwskills'\n",
    "letters = [letter for letter in string]\n",
    "print(letters)\n",
    "\n",
    "    "
   ]
  },
  {
   "cell_type": "code",
   "execution_count": null,
   "id": "a08a2986",
   "metadata": {},
   "outputs": [],
   "source": [
    "Q8. Write a python program to check whether a given number is Palindrome or not using a while loop.\n",
    "\n",
    "\n",
    "num = int(input(\"Enter a number: \"))\n",
    "temp = num\n",
    "rev = 0\n",
    "while temp != 0:\n",
    "    rev = rev * 10 + temp % 10\n",
    "    temp = temp // 10\n",
    "if num == rev:\n",
    "    print(num, \"is a palindrome\")\n",
    "else:\n",
    "    print(num, \"is not a palindrome\")\n"
   ]
  },
  {
   "cell_type": "code",
   "execution_count": 14,
   "id": "0fa50d3f",
   "metadata": {},
   "outputs": [
    {
     "name": "stdout",
     "output_type": "stream",
     "text": [
      "[1, 3, 5, 7, 9, 11, 13, 15, 17, 19, 21, 23, 25, 27, 29, 31, 33, 35, 37, 39, 41, 43, 45, 47, 49, 51, 53, 55, 57, 59, 61, 63, 65, 67, 69, 71, 73, 75, 77, 79, 81, 83, 85, 87, 89, 91, 93, 95, 97, 99]\n"
     ]
    }
   ],
   "source": [
    "Q9. Write a code to print odd numbers from 1 to 100 using list comprehension.\n",
    "\n",
    "\n",
    "print([x for x in range(1, 101) if x % 2 != 0])\n"
   ]
  },
  {
   "cell_type": "code",
   "execution_count": null,
   "id": "9277ebe7",
   "metadata": {},
   "outputs": [],
   "source": []
  }
 ],
 "metadata": {
  "kernelspec": {
   "display_name": "Python 3 (ipykernel)",
   "language": "python",
   "name": "python3"
  },
  "language_info": {
   "codemirror_mode": {
    "name": "ipython",
    "version": 3
   },
   "file_extension": ".py",
   "mimetype": "text/x-python",
   "name": "python",
   "nbconvert_exporter": "python",
   "pygments_lexer": "ipython3",
   "version": "3.9.13"
  }
 },
 "nbformat": 4,
 "nbformat_minor": 5
}
