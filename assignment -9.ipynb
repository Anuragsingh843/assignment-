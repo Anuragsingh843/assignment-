{
 "cells": [
  {
   "cell_type": "code",
   "execution_count": null,
   "id": "d66dbec7",
   "metadata": {},
   "outputs": [],
   "source": [
    "Q1. What is Abstraction in OOps? Explain with an example.\n",
    "ans=\n",
    "    \n",
    "    Abstraction is the process of hiding the internal details of an application from the outer world.\n",
    "    Abstraction is used to describe things in simple terms. \n",
    "    It's used to create a boundary between the application and the client programs.\n",
    "    \n",
    "    example:=Baking a cake. If you are following a recipe to bake a cake, you are using abstraction."
   ]
  },
  {
   "cell_type": "code",
   "execution_count": null,
   "id": "fb438c3e",
   "metadata": {},
   "outputs": [],
   "source": [
    "Q2. Differentiate between Abstraction and Encapsulation. Explain with an example.\n",
    "\n",
    "Abstraction:=\n",
    "1.  Abstraction is the process or method of gaining the information.\n",
    "2. In abstraction, problems are solved at the design or interface level.\n",
    "3. Abstraction is the method of hiding the unwanted information.\n",
    "4. We can implement abstraction using abstract class and interfaces.\n",
    "5. In abstraction, implementation complexities are hidden using abstract classes and interfaces.\n",
    "example:=When we use the TV remote to increase the volume. We don't know how pressing a key increases the volume of the TV. We only know to press the \"+\" button to increase the volume.\n",
    "\n",
    "\n",
    "\n",
    "Encapsulation:=\n",
    "1. While encapsulation is the process or method to contain the information.   \n",
    "2. While in encapsulation, problems are solved at the implementation level.\n",
    "3. Whereas encapsulation is a method to hide the data in a single entity or unit along with a method to protect information from outside.\n",
    "4. Whereas encapsulation can be implemented using by access modifier i.e. private, protected and public\n",
    "5. While in encapsulation, the data is hidden using methods of getters and setters.\n",
    "eaample:= for example, when you create a class, it means you are implementing encapsulation.\n",
    "          A class is an example of encapsulation as it binds all the data members (instance variables) and methods into a single unit."
   ]
  },
  {
   "cell_type": "code",
   "execution_count": null,
   "id": "5cfaa153",
   "metadata": {},
   "outputs": [],
   "source": [
    "Q3. What is abc module in python? Why is it used?\n",
    "   \n",
    "    The abc (abstract base class) module in Python is used to define abstract base classes, which serve as a blueprint for other classes.\n",
    "    Abstract base classes are classes that cannot be instantiated, but can define common behavior and attributes that other classes can inherit from. \n",
    "    This allows you to enforce a certain set of rules or methods that must be followed by subclasses, and it also allows you to check if an object is an instance of a particular class, or a subclass of a particular class, even if it is not an instance of that class itself.\n",
    "\n",
    "The abc module provides the ABC class, which can be used as a base class for creating abstract base classes in Python. The ABC class provides the @abstractmethod decorator, which can be used to indicate that a method is abstract and must be overridden in any concrete (i.e., non-abstract) subclass.\n",
    "\n",
    "Here's an example that demonstrates how to use the abc module to define an abstract base class:"
   ]
  },
  {
   "cell_type": "code",
   "execution_count": null,
   "id": "39263f0e",
   "metadata": {},
   "outputs": [],
   "source": [
    "Q4. How can we achieve data abstraction?\n",
    "    Abstraction is used to hide the internal functionality of the function from the users. \n",
    "    The users only interact with the basic implementation of the function, but inner working is hidden. User is familiar with that \"what function does\" but they don't know \"how it does.\""
   ]
  },
  {
   "cell_type": "code",
   "execution_count": null,
   "id": "1f4fef41",
   "metadata": {},
   "outputs": [],
   "source": [
    "Q5. Can we create an instance of an abstract class? Explain your answer.\n",
    "ans:= \n",
    "    No, you cannot create an instance of an abstract class directly.\n",
    "    An abstract class is a class that cannot be instantiated on its own, but it can serve as a base class for other classes.\n",
    "\n",
    "The purpose of an abstract class is to provide a common interface and a base implementation that can be shared by multiple derived classes.\n",
    "An abstract class can contain abstract methods (methods without a body) and non-abstract methods (methods with a body).\n",
    "\n",
    "To use an abstract class, you need to create a subclass that extends the abstract class and provides concrete implementations for all of the abstract methods defined in the abstract class. \n",
    "Only then can you create an instance of the derived class.\n",
    "\n",
    "In summary, you cannot create an instance of an abstract class, but you can use an abstract class as a blueprint for creating concrete subclasses that can be instantiated.\n",
    "\n",
    "\n",
    "\n"
   ]
  }
 ],
 "metadata": {
  "kernelspec": {
   "display_name": "Python 3 (ipykernel)",
   "language": "python",
   "name": "python3"
  },
  "language_info": {
   "codemirror_mode": {
    "name": "ipython",
    "version": 3
   },
   "file_extension": ".py",
   "mimetype": "text/x-python",
   "name": "python",
   "nbconvert_exporter": "python",
   "pygments_lexer": "ipython3",
   "version": "3.9.13"
  }
 },
 "nbformat": 4,
 "nbformat_minor": 5
}
