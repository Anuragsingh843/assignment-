{
 "cells": [
  {
   "cell_type": "code",
   "execution_count": 7,
   "id": "4d63a409",
   "metadata": {},
   "outputs": [],
   "source": [
    "Q1, Create a vehicle class with an init method having instance variables as name_of_vehicle, max_speed\n",
    "and average_of_vehicle.\n",
    "\n",
    "class vehicle:\n",
    "    def __init__(self,name_of_vehicle, max_speed,average_of_vehcile):\n",
    "        self.name_of_vehicle=name_of_vehicle\n",
    "        self.max_speed=max_speed\n",
    "        self.average_of_vehcile=average_of_vehcile\n",
    "        \n",
    "        \n",
    "    def set_speed(self,speed):\n",
    "        self_speed=0 if speed<0 else speed\n",
    "        \n",
    "    def get_speed(self):\n",
    "        return self_speed\n",
    "        "
   ]
  },
  {
   "cell_type": "code",
   "execution_count": 8,
   "id": "55c96372",
   "metadata": {},
   "outputs": [],
   "source": [
    "v=vehicle(\"BMW\",360, 100)"
   ]
  },
  {
   "cell_type": "code",
   "execution_count": 9,
   "id": "744b3688",
   "metadata": {},
   "outputs": [
    {
     "data": {
      "text/plain": [
       "'BMW'"
      ]
     },
     "execution_count": 9,
     "metadata": {},
     "output_type": "execute_result"
    }
   ],
   "source": [
    "v.name_of_vehicle"
   ]
  },
  {
   "cell_type": "code",
   "execution_count": 10,
   "id": "6b5dd1d3",
   "metadata": {},
   "outputs": [
    {
     "data": {
      "text/plain": [
       "360"
      ]
     },
     "execution_count": 10,
     "metadata": {},
     "output_type": "execute_result"
    }
   ],
   "source": [
    "v. max_speed"
   ]
  },
  {
   "cell_type": "code",
   "execution_count": 11,
   "id": "65c3479d",
   "metadata": {},
   "outputs": [
    {
     "data": {
      "text/plain": [
       "100"
      ]
     },
     "execution_count": 11,
     "metadata": {},
     "output_type": "execute_result"
    }
   ],
   "source": [
    "v.average_of_vehcile"
   ]
  },
  {
   "cell_type": "code",
   "execution_count": null,
   "id": "942c3558",
   "metadata": {},
   "outputs": [],
   "source": [
    "Q2. Create a child class car from the vehicle class created in Que 1, which will inherit the vehicle class.\n",
    "Create a method named seating_capacity which takes capacity as an argument and returns the name of\n",
    "the vehicle and its seating capacity.\n",
    "\n",
    "\n",
    "class Car(Vehicle):\n",
    "    def __init__(self, make, model, year, weight, speed, fuel):\n",
    "        super().__init__(make, model, year, weight, speed, fuel)\n",
    "    \n",
    "    def seating_capacity(self, capacity):\n",
    "        return \"The vehicle is a {} {} and it has a seating capacity of {} people.\".format(self.make, self.model, capacity)\n"
   ]
  },
  {
   "cell_type": "code",
   "execution_count": null,
   "id": "0d009b87",
   "metadata": {},
   "outputs": [],
   "source": [
    "Q3. What is multiple inheritance? Write a python code to demonstrate multiple inheritance.\n",
    " ans=\n",
    "    Inheritance is the mechanism to achieve the re-usability of code as one class(child class) can derive the properties of another class(parent class). \n",
    "    It also provides transitivity ie. if class C inherits from P then all the sub-classes of C would also inherit from P.\n",
    "    \n",
    "    \n",
    "    class run:\n",
    "        def run1(self):\n",
    "            return\"this is a class\"\n",
    "    \n",
    "    \n",
    "    class run2:\n",
    "         def run3(self):\n",
    "            return \"this is class2\"\n",
    "        \n",
    "        \n",
    "    class run4(run,run2):\n",
    "        pass \n",
    "    \n",
    "    obj_class =run4()\n",
    "    obj_class.run3()\n",
    "    obj_class.run1()"
   ]
  },
  {
   "cell_type": "code",
   "execution_count": null,
   "id": "1fa1aed9",
   "metadata": {},
   "outputs": [],
   "source": [
    "Q4.What are getter and setter in python?Create a class and create a getter and a setter method in this\n",
    "class.\n",
    "ans=\n",
    "    Getters: These are the methods used in Object-Oriented Programming (OOPS) which helps to access the private attributes from a class.\n",
    "        Setters: These are the methods used in OOPS feature which helps to set the value to private attributes in a class.\n",
    "            \n",
    "            class Person:\n",
    "    def __init__(self, name, age):\n",
    "        self._name = name\n",
    "        self._age = age\n",
    "        \n",
    "    def get_name(self):\n",
    "        return self._name\n",
    "    \n",
    "    def set_name(self, name):\n",
    "        self._name = name\n",
    "        \n",
    "    def get_age(self):\n",
    "        return self._age\n",
    "    \n",
    "    def set_age(self, age):\n",
    "        self._age = age\n",
    "\n"
   ]
  },
  {
   "cell_type": "code",
   "execution_count": null,
   "id": "fe581e71",
   "metadata": {},
   "outputs": [],
   "source": [
    "Q5.What is method overriding in python? Write a python code to demonstrate method overriding.\n",
    "\n",
    "ans=\n",
    "    Method overriding is a feature of object-oriented programming languages where the subclass or child class can provide the program with specific characteristics or a specific\n",
    "    implementation process of data provided that are already defined in the parent class or superclass\n",
    "    \n",
    "    class Animal:\n",
    "    def make_sound(self):\n",
    "        print(\"The animal makes a sound\")\n",
    "\n",
    "class Dog(Animal):\n",
    "    def make_sound(self):\n",
    "        print(\"The dog barks\")\n",
    "\n",
    "dog = Dog()\n",
    "dog.make_sound()\n"
   ]
  }
 ],
 "metadata": {
  "kernelspec": {
   "display_name": "Python 3 (ipykernel)",
   "language": "python",
   "name": "python3"
  },
  "language_info": {
   "codemirror_mode": {
    "name": "ipython",
    "version": 3
   },
   "file_extension": ".py",
   "mimetype": "text/x-python",
   "name": "python",
   "nbconvert_exporter": "python",
   "pygments_lexer": "ipython3",
   "version": "3.9.13"
  }
 },
 "nbformat": 4,
 "nbformat_minor": 5
}
