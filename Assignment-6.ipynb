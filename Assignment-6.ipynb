{
 "cells": [
  {
   "cell_type": "code",
   "execution_count": null,
   "id": "c99a458a",
   "metadata": {},
   "outputs": [],
   "source": [
    "Q1. Explain Class and Object with respect to Object-Oriented Programming. Give a suitable example.\n",
    " ans:-\n",
    "      \n",
    "    class=A class is a way of organizing information about a type of data so a programmer can reuse elements when making multiple instances of that data type—\n",
    "    for example, if a programmer wanted to make three instances of Car , maybe a BMW, a Ferrari, and a Ford instance.\n",
    "    \n",
    "    object=Object is an instance of a class. An object in OOPS is nothing but a self-contained component which consists of methods and properties to make a particular type of data useful.\n",
    "    For example color name, table, bag, barking."
   ]
  },
  {
   "cell_type": "code",
   "execution_count": null,
   "id": "585cf313",
   "metadata": {},
   "outputs": [],
   "source": [
    "Q2.Name the four pillars of OOPs.\n",
    "\n",
    "ans=These four pillars are Inheritance, Polymorphism, Encapsulation and Abstraction."
   ]
  },
  {
   "cell_type": "code",
   "execution_count": null,
   "id": "a999b9b9",
   "metadata": {},
   "outputs": [],
   "source": [
    "Q3. Explain why the __init__() function is used. Give a suitable example.\n",
    "ans:-The task of constructors is to initialize(assign values) to the data members of the class when an object of the class is created."
   ]
  },
  {
   "cell_type": "code",
   "execution_count": null,
   "id": "a4664c89",
   "metadata": {},
   "outputs": [],
   "source": [
    "Q4. Why self is used in OOPs?\n",
    "ans-The self variable is used to represent the instance of the class which is often used in object-oriented programming. \n",
    "It works as a reference to the object. \n",
    "Python uses the self parameter to refer to instance attributes and methods of the class."
   ]
  },
  {
   "cell_type": "code",
   "execution_count": null,
   "id": "59624ebc",
   "metadata": {},
   "outputs": [],
   "source": [
    "Q5. What is inheritance? Give an example for each type of inheritance.\n",
    "ans:-Inheritance is a mechanism of acquiring the features and behaviors of a class by another class. \n",
    "    The class whose members are inherited is called the base class, and the class that inherits those members is called the derived class.\n",
    "    Inheritance implements the IS-A relationship.\n",
    "    \n",
    "    Single Inheritance: \n",
    "        \n",
    "  => Single inheritance enables a derived class to inherit properties from a single parent class,\n",
    "     thus enabling code reusability and the addition of new features to existing code  \n",
    "        \n",
    "    example:=\n",
    "        \n",
    "        class Parent:\n",
    "            def func1(self):\n",
    "                 print(\"This function is in parent class.\")\n",
    "        object = Child()\n",
    "        object.func1()\n",
    "                    \n",
    "                    \n",
    "  =>    Multiple Inheritance: \n",
    "    \n",
    "    When a class can be derived from more than one base class this type of inheritance is called multiple inheritances.\n",
    "    In multiple inheritances, all the features of the base classes are inherited into the derived class. \n",
    "    \n",
    "    example=\n",
    "    \n",
    "    class Mother:\n",
    "    mothername = \"\"\n",
    " \n",
    "    def mother(self):\n",
    "        print(self.mothername)\n",
    " \n",
    "    s1 = Son()\n",
    "    s1.mothername = \"SITA\" \n",
    "    \n",
    "    \n",
    "    Multilevel Inheritance :\n",
    "        \n",
    " =>   In multilevel inheritance, features of the base class and the derived class are further inherited into the new derived class.\n",
    "    This is similar to a relationship representing a child and a grandfather. \n",
    "    \n",
    "\n",
    "     Hierarchical Inheritance: \n",
    " =>       When more than one derived class are created from a single base this type of inheritance is called hierarchical inheritance.\n",
    "        In this program, we have a parent (base) class and two child (derived) classes.   \n",
    "    \n",
    "    Hybrid Inheritance: \n",
    " => Inheritance consisting of multiple types of inheritance is called hybrid inheritance."
   ]
  },
  {
   "cell_type": "code",
   "execution_count": null,
   "id": "4084836d",
   "metadata": {},
   "outputs": [],
   "source": []
  }
 ],
 "metadata": {
  "kernelspec": {
   "display_name": "Python 3 (ipykernel)",
   "language": "python",
   "name": "python3"
  },
  "language_info": {
   "codemirror_mode": {
    "name": "ipython",
    "version": 3
   },
   "file_extension": ".py",
   "mimetype": "text/x-python",
   "name": "python",
   "nbconvert_exporter": "python",
   "pygments_lexer": "ipython3",
   "version": "3.9.13"
  }
 },
 "nbformat": 4,
 "nbformat_minor": 5
}
