{
 "cells": [
  {
   "cell_type": "code",
   "execution_count": null,
   "id": "1c28b303",
   "metadata": {},
   "outputs": [],
   "source": [
    "1.  Who developed python programming language?\n",
    "    ans:-Guido van Rossum"
   ]
  },
  {
   "cell_type": "code",
   "execution_count": null,
   "id": "efb0d43a",
   "metadata": {},
   "outputs": [],
   "source": [
    "2.  Which type of programming does python support?\n",
    "    ans:-python is a multi-paradigm programming language. like:-object oriented procedural,procedural structured."
   ]
  },
  {
   "cell_type": "code",
   "execution_count": null,
   "id": "6074d8ac",
   "metadata": {},
   "outputs": [],
   "source": [
    "3. is python case sensitive when dealing with identifiers?\n",
    "   ans:-Yes, Python is a case-sensitive language  dealing identifiers. "
   ]
  },
  {
   "cell_type": "code",
   "execution_count": null,
   "id": "33cc9367",
   "metadata": {},
   "outputs": [],
   "source": [
    "4. what is the correct extension of the python file?\n",
    "   ans:-the correct extension of the python file is .py extension."
   ]
  },
  {
   "cell_type": "code",
   "execution_count": null,
   "id": "8b1ace1b",
   "metadata": {},
   "outputs": [],
   "source": [
    "5. is python code compiled or interpreted?\n",
    "   ans:-Python is an interpreted language."
   ]
  },
  {
   "cell_type": "code",
   "execution_count": null,
   "id": "22af611c",
   "metadata": {},
   "outputs": [],
   "source": [
    "6. Name a few blocks of the code used to define in python language?\n",
    "   ans:- a module, a function body, and a class definition."
   ]
  },
  {
   "cell_type": "code",
   "execution_count": null,
   "id": "3c8253a7",
   "metadata": {},
   "outputs": [],
   "source": [
    "7. State a character used to give single-line comments in python?\n",
    "   ans:-a character used to give single-line comments in python is # character."
   ]
  },
  {
   "cell_type": "code",
   "execution_count": null,
   "id": "759e9781",
   "metadata": {},
   "outputs": [],
   "source": [
    "8. Mention functions which can help us to find the version of python that we are currently working on?\n",
    "   ans:-sys.version"
   ]
  },
  {
   "cell_type": "code",
   "execution_count": null,
   "id": "1d06b225",
   "metadata": {},
   "outputs": [],
   "source": [
    "9.python supports the creation of anonymous functions at runtime, using a construct called?\n",
    "  ans:- \"lambda\""
   ]
  },
  {
   "cell_type": "code",
   "execution_count": null,
   "id": "7ac16ff3",
   "metadata": {},
   "outputs": [],
   "source": [
    "10. What does pip stand for python?\n",
    "    ans:-preferred installer program"
   ]
  },
  {
   "cell_type": "code",
   "execution_count": null,
   "id": "74a583db",
   "metadata": {},
   "outputs": [],
   "source": [
    "11. Mention a few built-in functions in python?\n",
    "   ans:-print( ) function.\n",
    "    type( ) function.\n",
    "    input( ) function.\n",
    "    abs( ) function.\n",
    "    pow( ) function.\n",
    "    dir( ) function.\n",
    "    sorted( ) function.\n",
    "    max( ) function."
   ]
  },
  {
   "cell_type": "code",
   "execution_count": null,
   "id": "9d432c4d",
   "metadata": {},
   "outputs": [],
   "source": [
    "12. What is the maximum possible length of an identifier in python?\n",
    "    ans:-Ans:- An identifier can have a maximum length of 79 characters in Python."
   ]
  },
  {
   "cell_type": "code",
   "execution_count": null,
   "id": "71d186a6",
   "metadata": {},
   "outputs": [],
   "source": [
    "13.What are the benefits of using python?\n",
    "   ans:-Data science.\n",
    "    Scientific and mathematical computing.\n",
    "    Web development.\n",
    "    Finance and trading.\n",
    "    System automation and administration.\n",
    "    Computer graphics.\n",
    "    Basic game development.\n"
   ]
  },
  {
   "cell_type": "code",
   "execution_count": null,
   "id": "fd750436",
   "metadata": {},
   "outputs": [],
   "source": [
    "14.How is memory managed in python?\n",
    "   ans:-Python uses two strategies for memory allocation: \n",
    "\n",
    "        1. Reference counting\n",
    "        2. Garbage collection "
   ]
  },
  {
   "cell_type": "code",
   "execution_count": null,
   "id": "848cbd75",
   "metadata": {},
   "outputs": [],
   "source": [
    "15. How to install python on windows and set path variables?\n",
    "     ans:-Open a browser to the Python website and download the Windows installer. \n",
    "        2. Double click on the downloaded file and install Python for all users, and ensure that Python is added to your path. Click on Install now to begin.\n",
    "    -The PATH variable is a list of directories where each directory contains the executable file for a command."
   ]
  },
  {
   "cell_type": "code",
   "execution_count": null,
   "id": "645e4ef7",
   "metadata": {},
   "outputs": [],
   "source": [
    "16.Is indentation required in python?\n",
    "   ans:-the indentation in Python is very important.\n",
    "        Indentation refers to the spaces at the beginning of a code line."
   ]
  }
 ],
 "metadata": {
  "kernelspec": {
   "display_name": "Python 3 (ipykernel)",
   "language": "python",
   "name": "python3"
  },
  "language_info": {
   "codemirror_mode": {
    "name": "ipython",
    "version": 3
   },
   "file_extension": ".py",
   "mimetype": "text/x-python",
   "name": "python",
   "nbconvert_exporter": "python",
   "pygments_lexer": "ipython3",
   "version": "3.9.13"
  }
 },
 "nbformat": 4,
 "nbformat_minor": 5
}
