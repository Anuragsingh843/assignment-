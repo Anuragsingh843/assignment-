{
 "cells": [
  {
   "cell_type": "code",
   "execution_count": null,
   "id": "d12f8a62",
   "metadata": {},
   "outputs": [],
   "source": [
    "#Q.1 write a program to accept from th user and display the garde.\n",
    "percentage = float(input(\"Enter your percentage: \"))\n",
    "\n",
    "if percentage > 90:\n",
    "    print(\"Grade: A\")\n",
    "elif percentage > 80 and percentage <= 90:\n",
    "    print(\"Grade: B\")\n",
    "elif percentage >= 60 and percentage <= 80:\n",
    "    print(\"Grade: C\")\n",
    "elif percentage < 60:\n",
    "    print(\"Grade: D\")\n",
    "else:\n",
    "    print(\"Grade: F\")"
   ]
  },
  {
   "cell_type": "code",
   "execution_count": null,
   "id": "6b616efd",
   "metadata": {},
   "outputs": [],
   "source": []
  },
  {
   "cell_type": "code",
   "execution_count": 1,
   "id": "7240943f",
   "metadata": {},
   "outputs": [
    {
     "name": "stdout",
     "output_type": "stream",
     "text": [
      "enter the cost price of bike65000\n",
      "TAX: 10%\n"
     ]
    }
   ],
   "source": [
    "#Q2.write a program to accept the cost price of a bike and display the road tax to be paid.\n",
    "\n",
    "price=int(input(\"enter the cost price of bike\"))\n",
    "if price >100000:\n",
    "    print(\"TAX: 15%\")\n",
    "elif price >50000 and price <=100000:\n",
    "    print(\"TAX: 10%\")\n",
    "elif price <=50000:\n",
    "    print(\"TAX: 5%\")\n",
    "else:\n",
    "    print(\"no tax\")"
   ]
  },
  {
   "cell_type": "code",
   "execution_count": null,
   "id": "01cb248f",
   "metadata": {},
   "outputs": [],
   "source": [
    "#Q.3 Accept any city from the user and display monuments of the city.\n",
    "\n",
    "city=input(\"enter the city name\")\n",
    "if city==\"Delhi\":\n",
    "    print(\"Monument: Red Fort\")\n",
    "elif city == \"Agra\":\n",
    "    print(\"Monument Taj Mahal\")\n",
    "elif city== \"Jaipur\":\n",
    "    print(\"Monument: Jal Mahal\")"
   ]
  },
  {
   "cell_type": "code",
   "execution_count": null,
   "id": "6392eb77",
   "metadata": {},
   "outputs": [],
   "source": [
    "#Q.4 check how many times a given number can be divided by 3 before it is less than or equal to 10.\n",
    "    "
   ]
  },
  {
   "cell_type": "code",
   "execution_count": null,
   "id": "24cccb60",
   "metadata": {},
   "outputs": [],
   "source": [
    "Q.5 Why and When to use while Loop in python give a detailed descripation with Example.\n",
    "  ANS:=Python while loop is used to run a block code until a certain condition is met.\n",
    "        Here, A while loop evaluates the condition. If the condition evaluates to True , the code inside the while loop is executed.\n",
    "       \n",
    "    A while loop will run a piece of code while a condition is True.\n",
    "        It will keep executing the desired set of code statements until that condition is no longer True.\n",
    "        A while loop will always first check the condition before running. If the condition evaluates to True then the loop will run the code within the loop's body. \n",
    "     \n",
    "    For example, if we want to show a message 100 times, then we can use a loop. "
   ]
  },
  {
   "cell_type": "code",
   "execution_count": 16,
   "id": "6d79113b",
   "metadata": {},
   "outputs": [
    {
     "name": "stdout",
     "output_type": "stream",
     "text": [
      "        * * * * * * \n",
      "         * * * * * \n",
      "          * * * * \n",
      "           * * * \n",
      "            * * \n",
      "             * \n"
     ]
    }
   ],
   "source": [
    "#Q.6 Use nested while loop to print 3 different pattern.\n",
    " \n",
    "ans:=1\n",
    "    \n",
    "rows = 6\n",
    "for i in range(rows):\n",
    "    for j in range(i):\n",
    "        print(i, end=' ')\n",
    "    print('')\n",
    "\n",
    "ans:=2\n",
    "    \n",
    "rows = 5\n",
    "k = 2 * rows - 2\n",
    "for i in range(0, rows):\n",
    "    for j in range(0, k):\n",
    "        print(end=\" \")\n",
    "    k = k - 2\n",
    "    for j in range(0, i + 1):\n",
    "        print(\"i \", end=\"\")\n",
    "    print(\" \")\n",
    "    \n",
    "    \n",
    "ans:=3\n",
    "    \n",
    "rows = 5\n",
    "k = 2 * rows - 2\n",
    "for i in range(rows, -1, -1):\n",
    "    for j in range(k, 0, -1):\n",
    "        print(end=\" \")\n",
    "    k = k + 1\n",
    "    for j in range(0, i + 1):\n",
    "        print(\"*\", end=\" \")\n",
    "    print(\"\")\n",
    "   \n"
   ]
  },
  {
   "cell_type": "code",
   "execution_count": null,
   "id": "124e3a09",
   "metadata": {},
   "outputs": [],
   "source": [
    "#Q.7 Reverse a while loop to display numbers from 10 to 1.\n",
    " #  ans:- \n",
    "i = 10\n",
    "while i > 0:\n",
    "    print(i)\n",
    "    i = i - 1"
   ]
  },
  {
   "cell_type": "code",
   "execution_count": 2,
   "id": "40bfc192",
   "metadata": {},
   "outputs": [
    {
     "name": "stdout",
     "output_type": "stream",
     "text": [
      "10\n",
      "9\n",
      "8\n",
      "7\n",
      "6\n",
      "5\n",
      "4\n",
      "3\n",
      "2\n",
      "1\n"
     ]
    }
   ],
   "source": [
    "#Q.7 Reverse a while loop to display numbers from 10 to 1.\n",
    " #  ans:- \n",
    "i = 10\n",
    "while i > 0:\n",
    "    print(i)\n",
    "    i = i - 1"
   ]
  },
  {
   "cell_type": "code",
   "execution_count": null,
   "id": "bf693ebb",
   "metadata": {},
   "outputs": [],
   "source": []
  }
 ],
 "metadata": {
  "kernelspec": {
   "display_name": "Python 3 (ipykernel)",
   "language": "python",
   "name": "python3"
  },
  "language_info": {
   "codemirror_mode": {
    "name": "ipython",
    "version": 3
   },
   "file_extension": ".py",
   "mimetype": "text/x-python",
   "name": "python",
   "nbconvert_exporter": "python",
   "pygments_lexer": "ipython3",
   "version": "3.9.13"
  }
 },
 "nbformat": 4,
 "nbformat_minor": 5
}
