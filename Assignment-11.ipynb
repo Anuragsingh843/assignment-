{
 "cells": [
  {
   "cell_type": "code",
   "execution_count": null,
   "id": "3adea0b0",
   "metadata": {},
   "outputs": [],
   "source": [
    "Q1. Which function is used to open a file? What are the different modes of opening a file? Explain each mode\n",
    "of file opening.\n",
    "ans:= The fopen() function is used to create a file or open an existing file: fp = fopen(const char filename,const char mode)\n",
    "     \n",
    "    r - open a file in read mode.\n",
    "w - opens or create a text file in write mode.\n",
    "a - opens a file in append mode.\n",
    "r+ - opens a file in both read and write mode.\n",
    "a+ - opens a file in both read and write mode.\n",
    "w+ - opens a file in both read and write mode.\n",
    "\n",
    "\n",
    "r - open a file in read mode. w - opens or create a text file in write mode. a - opens a file in append mode. r+ - opens a file in both read and write mode.\n"
   ]
  },
  {
   "cell_type": "code",
   "execution_count": null,
   "id": "7d93688d",
   "metadata": {},
   "outputs": [],
   "source": [
    "Q2. Why close() function is used? Why is it important to close a file?\n",
    "ans=\n",
    "The close() function shall deallocate the file descriptor indicated by fildes.\n",
    "To deallocate means to make the file descriptor available for return by subsequent calls to open() or other functions that allocate file descriptors.\n",
    "\n",
    "Because files are limited resources managed by the operating system, making sure files are closed after use will protect against hard-to-debug issues like running out of file handles or experiencing corrupted data.\n",
    "The best defense is always to open files with a context manager."
   ]
  },
  {
   "cell_type": "code",
   "execution_count": null,
   "id": "d296e11f",
   "metadata": {},
   "outputs": [],
   "source": [
    "Q3. Write a python program to create a text file. Write ‘I want to become a Data Scientist’ in that file. Then\n",
    "close the file. Open this file and read the content of the file.\n",
    "ans=\n",
    "    filename = \"test.txt\"\n",
    "\n",
    "with open(filename, \"w\") as file:\n",
    "    file.write(\"This is a test file.\")\n",
    "\n",
    "print(\"File created successfully.\")\n",
    "\n",
    "\n",
    "file = open(\"file.txt\", \"w\")\n",
    "file.write(\"I want to become a Data Scientist\")\n",
    "file.close()\n",
    "\n",
    "file = open(\"file.txt\", \"r\")\n",
    "print(file.read())\n",
    "file.close()\n",
    "\n"
   ]
  },
  {
   "cell_type": "code",
   "execution_count": null,
   "id": "fbf97881",
   "metadata": {},
   "outputs": [],
   "source": [
    "Q4. Explain the following with python code: read(), readline() and readlines().\n",
    "    ans=\n",
    "    with open(\"example.txt\", \"r\") as file:\n",
    "        contents = file.read()\n",
    "        print(contents)\n",
    "        \n",
    "    with open(\"example.txt\", \"r\") as file:\n",
    "    line = file.readline()\n",
    "    while line:\n",
    "        print(line)\n",
    "        line = file.readline()\n",
    "    \n",
    "    \n",
    "    with open(\"example.txt\", \"r\") as file:\n",
    "    lines = file.readlines()\n",
    "    for line in lines:\n",
    "        print(line)\n",
    "\n"
   ]
  },
  {
   "cell_type": "code",
   "execution_count": null,
   "id": "55713394",
   "metadata": {},
   "outputs": [],
   "source": [
    "Q5. Explain why with statement is used with open(). What is the advantage of using with statement and\n",
    "open() together?\n",
    "ans=\n",
    "   The \"with\" statement is used in conjunction with the \"open\" function in Python as a way to ensure that file-related resources are properly managed. The main advantage of using the \"with\" statement with \"open\" is that it helps to eliminate the need for manual resource management, and helps to prevent resource leaks.\n",
    "\n",
    "When you open a file using the \"open\" function, you acquire a file object that represents the open file. When you are done using the file, it's important to close it in order to release any resources associated with the file. If you forget to close the file, you risk running out of resources, which can cause your program to crash or behave unexpectedly.\n",
    "\n",
    "The \"with\" statement provides a convenient way to automatically close the file when you are done with it, regardless of how you exit the block of code associated with the \"with\" statement. For example, if you raise an exception within the block, the file will still be automatically closed, even if the exception is not caught. This eliminates the need to manually close the file and helps to prevent resource leaks.\n",
    "\n",
    "Here's an example of how you can use the \"with\" statement with the \"open\" function to safely read the contents of a file:\n",
    "\n",
    "\n",
    "Copy code\n",
    "with open(\"file.txt\", \"r\") as f:\n",
    "    contents = f.read()\n",
    "In this example, the file is opened using the \"open\" function and assigned to a file object \"f\". \n",
    "The contents of the file are read using the read method of the file object, and the file is automatically closed when the block of code associated with the \"with\" statement is exited.\n"
   ]
  },
  {
   "cell_type": "code",
   "execution_count": null,
   "id": "8cd64c0b",
   "metadata": {},
   "outputs": [],
   "source": [
    "Q6. Explain the write() and writelines() functions. Give a suitable example.\n",
    "ans=\n",
    "The write() function is used to write a string to a text file.\n",
    "It is used to write a single string at a time to the text file. Here's an example:\n",
    "\n",
    "file = open(\"example.txt\", \"w\")\n",
    "file.write(\"Hello World\")\n",
    "file.close()\n",
    "\n",
    "In this example, we open a file named \"example.txt\" in writing mode (\"w\") and write the string \"Hello World\" to the file. Finally, we close the file.\n",
    "\n",
    "The writelines() function is used to write a list of strings to a text file. Each string in the list is written to a separate line in the text file. Here's an example:\n",
    "\n",
    "file = open(\"example.txt\", \"w\")\n",
    "lines = [\"Hello\", \"World\"]\n",
    "file.writelines(lines)\n",
    "file.close()\n",
    "\n",
    "\n",
    "In this example, we open a file named \"example.txt\" in writing mode and create a list of strings called lines.\n",
    "We then use the writelines() function to write the list of strings to the file, each on a separate line. Finally, we close the file.\n"
   ]
  }
 ],
 "metadata": {
  "kernelspec": {
   "display_name": "Python 3 (ipykernel)",
   "language": "python",
   "name": "python3"
  },
  "language_info": {
   "codemirror_mode": {
    "name": "ipython",
    "version": 3
   },
   "file_extension": ".py",
   "mimetype": "text/x-python",
   "name": "python",
   "nbconvert_exporter": "python",
   "pygments_lexer": "ipython3",
   "version": "3.9.13"
  }
 },
 "nbformat": 4,
 "nbformat_minor": 5
}
