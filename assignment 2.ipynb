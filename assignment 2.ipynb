{
 "cells": [
  {
   "cell_type": "code",
   "execution_count": null,
   "id": "4c16221e",
   "metadata": {},
   "outputs": [],
   "source": [
    "Q1. Explain with an example each when to use a for loop and a while loop.\n",
    "ans:-A \"For\" Loop is used to repeat a specific block of code a known number of times.   \n",
    "    For example, if we want to check the grade of every student in the class, we loop from 1 to that number.\n",
    "    \n",
    "    A \"While\" Loop is used to repeat a specific block of code an unknown number of times, until a condition is met. \n",
    "    For example, if we want to ask a user for a number between 1 and 10,\n",
    "    we don't know how many times the user may enter a larger number, so we keep asking \"while the number is not between 1 and 10\"."
   ]
  },
  {
   "cell_type": "code",
   "execution_count": null,
   "id": "55361c92",
   "metadata": {},
   "outputs": [],
   "source": [
    "Q2. Write a python program to print the sum and product of the first 10 natural numbers using for\n",
    "    and while loop.\n",
    "Ans:-\n",
    "    \n",
    "k=[1,2,3,4,5,6,7,8,9,10]\n",
    "sum=0\n",
    "for i in k:\n",
    "     sum=sum+1\n",
    "print(sum)\n",
    "\n",
    "\n",
    "k=[1,2,3,4,5,6,7,8,9,10]\n",
    "product=1\n",
    "for i in k:\n",
    "    product=product*i\n",
    "print(product)"
   ]
  },
  {
   "cell_type": "code",
   "execution_count": null,
   "id": "86af9c69",
   "metadata": {},
   "outputs": [],
   "source": [
    "Q3. Create a python program to compute the electricity bill for a household.\n",
    "The per-unit charges in rupees are as follows: For the first 100 units, the user will be charged Rs. 4.5 per\n",
    "unit, for the next 100 units, the user will be charged Rs. 6 per unit, and for the next 100 units, the user will\n",
    "be charged Rs. 10 per unit, After 300 units and above the user will be charged Rs. 20 per unit.\n",
    "You are required to take the units of electricity consumed in a month from the user as input.\n",
    "Your program must pass this test case: when the unit of electricity consumed by the user in a month is\n",
    "310, the total electricity bill should be 2250.\n",
    "\n",
    "ANS:-def electricity_bill(units):\n",
    "    \n",
    "    if units <= 100:\n",
    "        return( units * 4.5)\n",
    "    elif units <= 200:\n",
    "        return((100 * 4.5) + ((units - 100) * 6))\n",
    "    elif units <= 300:\n",
    "        return((100 * 4.5) + (100 * 6) + ((units - 200) * 10))\n",
    "    else:\n",
    "        print((100 * 4.5) + (100 * 6) + (100 * 10) + ((units - 300)*20))\n",
    "units = int(input(\"Enter the number of units consumed: \"))\n",
    "print(\"The electricity bill is: Rs.\", electricity_bill(units))\n",
    "\n"
   ]
  },
  {
   "cell_type": "code",
   "execution_count": null,
   "id": "a115223b",
   "metadata": {},
   "outputs": [],
   "source": [
    "Q4. Create a list of numbers from 1 to 100. Use for loop and while loop to calculate the cube of each\n",
    "number and if the cube of that number is divisible by 4 or 5 then append that number in a list and print\n",
    "that list.\n",
    "\n",
    "ANS:-cubes_divisible = []\n",
    "\n",
    "for i in range(1, 101):\n",
    "    cube = i**3\n",
    "    if cube % 4 == 0 or cube % 5 == 0:\n",
    "        cubes_divisible.append(i)\n",
    "\n",
    "print(cubes_divisible)\n"
   ]
  },
  {
   "cell_type": "code",
   "execution_count": null,
   "id": "64fd116d",
   "metadata": {},
   "outputs": [],
   "source": [
    "Q5. Write a program to filter count vowels in the below-given string.\n",
    "string = \"I want to become a data scientist\"\n",
    "\n",
    "ans:-def count_vowels(string):\n",
    "    vowels = \"aeiouAEIOU\"\n",
    "    count = 0\n",
    "    for char in string:\n",
    "        if char in vowels:\n",
    "            count += 1\n",
    "    return count\n",
    "\n",
    "string = \"I want to become a data scientist\"\n",
    "print(\"Number of vowels in the given string:\", count_vowels(string))"
   ]
  },
  {
   "cell_type": "code",
   "execution_count": null,
   "id": "352eabac",
   "metadata": {},
   "outputs": [],
   "source": []
  },
  {
   "cell_type": "code",
   "execution_count": null,
   "id": "e3bf3792",
   "metadata": {},
   "outputs": [],
   "source": []
  },
  {
   "cell_type": "code",
   "execution_count": null,
   "id": "36979eff",
   "metadata": {},
   "outputs": [],
   "source": []
  },
  {
   "cell_type": "code",
   "execution_count": null,
   "id": "e0bf5422",
   "metadata": {},
   "outputs": [],
   "source": []
  },
  {
   "cell_type": "code",
   "execution_count": null,
   "id": "05e84769",
   "metadata": {},
   "outputs": [],
   "source": []
  },
  {
   "cell_type": "code",
   "execution_count": null,
   "id": "ef2c317f",
   "metadata": {},
   "outputs": [],
   "source": []
  },
  {
   "cell_type": "code",
   "execution_count": null,
   "id": "e160ec4f",
   "metadata": {},
   "outputs": [],
   "source": []
  },
  {
   "cell_type": "code",
   "execution_count": null,
   "id": "ed91110d",
   "metadata": {},
   "outputs": [],
   "source": []
  }
 ],
 "metadata": {
  "kernelspec": {
   "display_name": "Python 3 (ipykernel)",
   "language": "python",
   "name": "python3"
  },
  "language_info": {
   "codemirror_mode": {
    "name": "ipython",
    "version": 3
   },
   "file_extension": ".py",
   "mimetype": "text/x-python",
   "name": "python",
   "nbconvert_exporter": "python",
   "pygments_lexer": "ipython3",
   "version": "3.9.13"
  }
 },
 "nbformat": 4,
 "nbformat_minor": 5
}
